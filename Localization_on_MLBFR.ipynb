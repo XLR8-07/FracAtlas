{
  "cells": [
    {
      "cell_type": "markdown",
      "source": [
        "### Installing Dependencies"
      ],
      "metadata": {
        "id": "JsUDUJJe9-yX"
      }
    },
    {
      "cell_type": "code",
      "execution_count": null,
      "metadata": {
        "id": "OXrG9wSj8C0r",
        "outputId": "a59f5711-cbbb-4c3a-8f87-32ca37d78634"
      },
      "outputs": [
        {
          "name": "stdout",
          "output_type": "stream",
          "text": [
            "Defaulting to user installation because normal site-packages is not writeable\n",
            "Requirement already satisfied: torch>=1.8.0 in c:\\users\\joyas\\appdata\\roaming\\python\\python39\\site-packages (from -r requirements.txt (line 4)) (1.13.1+cu117)\n",
            "Requirement already satisfied: torchvision>=0.9.0 in c:\\users\\joyas\\appdata\\roaming\\python\\python39\\site-packages (from -r requirements.txt (line 5)) (0.14.1+cu117)\n",
            "Requirement already satisfied: numpy>=1.18.5 in c:\\users\\joyas\\appdata\\roaming\\python\\python39\\site-packages (from -r requirements.txt (line 6)) (1.24.1)\n",
            "Collecting opencv-python>=4.1.2\n",
            "  Using cached opencv_python-4.7.0.68-cp37-abi3-win_amd64.whl (38.2 MB)\n",
            "Collecting PyYAML>=5.3.1\n",
            "  Using cached PyYAML-6.0-cp39-cp39-win_amd64.whl (151 kB)\n",
            "Collecting scipy>=1.4.1\n",
            "  Downloading scipy-1.10.1-cp39-cp39-win_amd64.whl (42.5 MB)\n",
            "     ---------------------------------------- 42.5/42.5 MB 3.8 MB/s eta 0:00:00\n",
            "Collecting tqdm>=4.41.0\n",
            "  Using cached tqdm-4.64.1-py2.py3-none-any.whl (78 kB)\n",
            "Collecting addict>=2.4.0\n",
            "  Downloading addict-2.4.0-py3-none-any.whl (3.8 kB)\n",
            "Collecting tensorboard>=2.7.0\n",
            "  Downloading tensorboard-2.12.0-py3-none-any.whl (5.6 MB)\n",
            "     ---------------------------------------- 5.6/5.6 MB 4.4 MB/s eta 0:00:00\n",
            "Collecting pycocotools>=2.0\n",
            "  Using cached pycocotools-2.0.6.tar.gz (24 kB)\n",
            "  Installing build dependencies: started\n",
            "  Installing build dependencies: finished with status 'done'\n",
            "  Getting requirements to build wheel: started\n",
            "  Getting requirements to build wheel: finished with status 'done'\n",
            "  Preparing metadata (pyproject.toml): started\n",
            "  Preparing metadata (pyproject.toml): finished with status 'done'\n",
            "Collecting onnx>=1.10.0\n",
            "  Downloading onnx-1.13.0-cp39-cp39-win_amd64.whl (12.2 MB)\n",
            "     ---------------------------------------- 12.2/12.2 MB 2.7 MB/s eta 0:00:00\n",
            "Collecting onnx-simplifier>=0.3.6\n",
            "  Downloading onnx_simplifier-0.4.17-cp39-cp39-win_amd64.whl (1.2 MB)\n",
            "     ---------------------------------------- 1.2/1.2 MB 1.4 MB/s eta 0:00:00\n",
            "Collecting thop\n",
            "  Downloading thop-0.1.1.post2209072238-py3-none-any.whl (15 kB)\n",
            "Requirement already satisfied: typing-extensions in c:\\users\\joyas\\appdata\\roaming\\python\\python39\\site-packages (from torch>=1.8.0->-r requirements.txt (line 4)) (4.4.0)\n",
            "Requirement already satisfied: requests in c:\\users\\joyas\\appdata\\roaming\\python\\python39\\site-packages (from torchvision>=0.9.0->-r requirements.txt (line 5)) (2.28.2)\n",
            "Requirement already satisfied: pillow!=8.3.*,>=5.3.0 in c:\\users\\joyas\\appdata\\roaming\\python\\python39\\site-packages (from torchvision>=0.9.0->-r requirements.txt (line 5)) (9.4.0)\n",
            "Requirement already satisfied: colorama in c:\\users\\joyas\\appdata\\roaming\\python\\python39\\site-packages (from tqdm>=4.41.0->-r requirements.txt (line 10)) (0.4.6)\n",
            "Collecting grpcio>=1.48.2\n",
            "  Using cached grpcio-1.51.1-cp39-cp39-win_amd64.whl (3.7 MB)\n",
            "Collecting google-auth<3,>=1.6.3\n",
            "  Downloading google_auth-2.16.1-py2.py3-none-any.whl (177 kB)\n",
            "     -------------------------------------- 177.2/177.2 KB 1.5 MB/s eta 0:00:00\n",
            "Requirement already satisfied: setuptools>=41.0.0 in c:\\program files\\python39\\lib\\site-packages (from tensorboard>=2.7.0->-r requirements.txt (line 12)) (58.1.0)\n",
            "Collecting werkzeug>=1.0.1\n",
            "  Downloading Werkzeug-2.2.3-py3-none-any.whl (233 kB)\n",
            "     -------------------------------------- 233.6/233.6 KB 1.4 MB/s eta 0:00:00\n",
            "Collecting wheel>=0.26\n",
            "  Using cached wheel-0.38.4-py3-none-any.whl (36 kB)\n",
            "Collecting markdown>=2.6.8\n",
            "  Using cached Markdown-3.4.1-py3-none-any.whl (93 kB)\n",
            "Collecting absl-py>=0.4\n",
            "  Using cached absl_py-1.4.0-py3-none-any.whl (126 kB)\n",
            "Collecting tensorboard-plugin-wit>=1.6.0\n",
            "  Using cached tensorboard_plugin_wit-1.8.1-py3-none-any.whl (781 kB)\n",
            "Collecting protobuf>=3.19.6\n",
            "  Downloading protobuf-4.22.0-cp39-cp39-win_amd64.whl (420 kB)\n",
            "     -------------------------------------- 420.6/420.6 KB 1.4 MB/s eta 0:00:00\n",
            "Collecting google-auth-oauthlib<0.5,>=0.4.1\n",
            "  Using cached google_auth_oauthlib-0.4.6-py2.py3-none-any.whl (18 kB)\n",
            "Collecting tensorboard-data-server<0.8.0,>=0.7.0\n",
            "  Downloading tensorboard_data_server-0.7.0-py3-none-any.whl (2.4 kB)\n",
            "Collecting matplotlib>=2.1.0\n",
            "  Downloading matplotlib-3.7.0-cp39-cp39-win_amd64.whl (7.6 MB)\n",
            "     ---------------------------------------- 7.6/7.6 MB 1.7 MB/s eta 0:00:00\n",
            "Collecting protobuf>=3.19.6\n",
            "  Using cached protobuf-3.20.3-cp39-cp39-win_amd64.whl (904 kB)\n",
            "Collecting rich\n",
            "  Downloading rich-13.3.1-py3-none-any.whl (239 kB)\n",
            "     -------------------------------------- 239.0/239.0 KB 1.8 MB/s eta 0:00:00\n",
            "Collecting cachetools<6.0,>=2.0.0\n",
            "  Using cached cachetools-5.3.0-py3-none-any.whl (9.3 kB)\n",
            "Requirement already satisfied: six>=1.9.0 in c:\\users\\joyas\\appdata\\roaming\\python\\python39\\site-packages (from google-auth<3,>=1.6.3->tensorboard>=2.7.0->-r requirements.txt (line 12)) (1.16.0)\n",
            "Collecting pyasn1-modules>=0.2.1\n",
            "  Using cached pyasn1_modules-0.2.8-py2.py3-none-any.whl (155 kB)\n",
            "Collecting rsa<5,>=3.1.4\n",
            "  Using cached rsa-4.9-py3-none-any.whl (34 kB)\n",
            "Collecting requests-oauthlib>=0.7.0\n",
            "  Using cached requests_oauthlib-1.3.1-py2.py3-none-any.whl (23 kB)\n",
            "Requirement already satisfied: importlib-metadata>=4.4 in c:\\users\\joyas\\appdata\\roaming\\python\\python39\\site-packages (from markdown>=2.6.8->tensorboard>=2.7.0->-r requirements.txt (line 12)) (6.0.0)\n",
            "Collecting importlib-resources>=3.2.0\n",
            "  Downloading importlib_resources-5.12.0-py3-none-any.whl (36 kB)\n",
            "Collecting contourpy>=1.0.1\n",
            "  Downloading contourpy-1.0.7-cp39-cp39-win_amd64.whl (160 kB)\n",
            "     -------------------------------------- 160.2/160.2 KB 1.9 MB/s eta 0:00:00\n",
            "Collecting cycler>=0.10\n",
            "  Using cached cycler-0.11.0-py3-none-any.whl (6.4 kB)\n",
            "Requirement already satisfied: packaging>=20.0 in c:\\users\\joyas\\appdata\\roaming\\python\\python39\\site-packages (from matplotlib>=2.1.0->pycocotools>=2.0->-r requirements.txt (line 13)) (23.0)\n",
            "Requirement already satisfied: python-dateutil>=2.7 in c:\\users\\joyas\\appdata\\roaming\\python\\python39\\site-packages (from matplotlib>=2.1.0->pycocotools>=2.0->-r requirements.txt (line 13)) (2.8.2)\n",
            "Collecting fonttools>=4.22.0\n",
            "  Using cached fonttools-4.38.0-py3-none-any.whl (965 kB)\n",
            "Collecting kiwisolver>=1.0.1\n",
            "  Using cached kiwisolver-1.4.4-cp39-cp39-win_amd64.whl (55 kB)\n",
            "Collecting pyparsing>=2.3.1\n",
            "  Using cached pyparsing-3.0.9-py3-none-any.whl (98 kB)\n",
            "Requirement already satisfied: certifi>=2017.4.17 in c:\\users\\joyas\\appdata\\roaming\\python\\python39\\site-packages (from requests->torchvision>=0.9.0->-r requirements.txt (line 5)) (2022.12.7)\n",
            "Requirement already satisfied: charset-normalizer<4,>=2 in c:\\users\\joyas\\appdata\\roaming\\python\\python39\\site-packages (from requests->torchvision>=0.9.0->-r requirements.txt (line 5)) (3.0.1)\n",
            "Requirement already satisfied: idna<4,>=2.5 in c:\\users\\joyas\\appdata\\roaming\\python\\python39\\site-packages (from requests->torchvision>=0.9.0->-r requirements.txt (line 5)) (3.4)\n",
            "Requirement already satisfied: urllib3<1.27,>=1.21.1 in c:\\users\\joyas\\appdata\\roaming\\python\\python39\\site-packages (from requests->torchvision>=0.9.0->-r requirements.txt (line 5)) (1.26.14)\n",
            "Collecting MarkupSafe>=2.1.1\n",
            "  Downloading MarkupSafe-2.1.2-cp39-cp39-win_amd64.whl (16 kB)\n",
            "Requirement already satisfied: pygments<3.0.0,>=2.14.0 in c:\\users\\joyas\\appdata\\roaming\\python\\python39\\site-packages (from rich->onnx-simplifier>=0.3.6->-r requirements.txt (line 15)) (2.14.0)\n",
            "Collecting markdown-it-py<3.0.0,>=2.1.0\n",
            "  Downloading markdown_it_py-2.1.0-py3-none-any.whl (84 kB)\n",
            "     ---------------------------------------- 84.5/84.5 KB 2.4 MB/s eta 0:00:00\n",
            "Requirement already satisfied: zipp>=0.5 in c:\\users\\joyas\\appdata\\roaming\\python\\python39\\site-packages (from importlib-metadata>=4.4->markdown>=2.6.8->tensorboard>=2.7.0->-r requirements.txt (line 12)) (3.14.0)\n",
            "Collecting mdurl~=0.1\n",
            "  Downloading mdurl-0.1.2-py3-none-any.whl (10.0 kB)\n",
            "Collecting pyasn1<0.5.0,>=0.4.6\n",
            "  Using cached pyasn1-0.4.8-py2.py3-none-any.whl (77 kB)\n",
            "Collecting oauthlib>=3.0.0\n",
            "  Using cached oauthlib-3.2.2-py3-none-any.whl (151 kB)\n",
            "Building wheels for collected packages: pycocotools\n",
            "  Building wheel for pycocotools (pyproject.toml): started\n",
            "  Building wheel for pycocotools (pyproject.toml): finished with status 'done'\n",
            "  Created wheel for pycocotools: filename=pycocotools-2.0.6-cp39-cp39-win_amd64.whl size=77738 sha256=476af95e070abd6544854e5ad32c6fdfc9cd6fb9e15ef0a70d6f54bb7f9f77e5\n",
            "  Stored in directory: c:\\users\\joyas\\appdata\\local\\pip\\cache\\wheels\\2f\\58\\25\\e78f1f766e904a9071266661d20d0bc6644df86bcd160aba11\n",
            "Successfully built pycocotools\n",
            "Installing collected packages: tensorboard-plugin-wit, pyasn1, addict, wheel, tqdm, tensorboard-data-server, scipy, rsa, PyYAML, pyparsing, pyasn1-modules, protobuf, opencv-python, oauthlib, mdurl, MarkupSafe, kiwisolver, importlib-resources, grpcio, fonttools, cycler, contourpy, cachetools, absl-py, werkzeug, thop, requests-oauthlib, onnx, matplotlib, markdown-it-py, markdown, google-auth, rich, pycocotools, google-auth-oauthlib, tensorboard, onnx-simplifier\n",
            "Successfully installed MarkupSafe-2.1.2 PyYAML-6.0 absl-py-1.4.0 addict-2.4.0 cachetools-5.3.0 contourpy-1.0.7 cycler-0.11.0 fonttools-4.38.0 google-auth-2.16.1 google-auth-oauthlib-0.4.6 grpcio-1.51.1 importlib-resources-5.12.0 kiwisolver-1.4.4 markdown-3.4.1 markdown-it-py-2.1.0 matplotlib-3.7.0 mdurl-0.1.2 oauthlib-3.2.2 onnx-1.13.0 onnx-simplifier-0.4.17 opencv-python-4.7.0.68 protobuf-3.20.3 pyasn1-0.4.8 pyasn1-modules-0.2.8 pycocotools-2.0.6 pyparsing-3.0.9 requests-oauthlib-1.3.1 rich-13.3.1 rsa-4.9 scipy-1.10.1 tensorboard-2.12.0 tensorboard-data-server-0.7.0 tensorboard-plugin-wit-1.8.1 thop-0.1.1.post2209072238 tqdm-4.64.1 werkzeug-2.2.3 wheel-0.38.4\n"
          ]
        },
        {
          "name": "stderr",
          "output_type": "stream",
          "text": [
            "WARNING: You are using pip version 22.0.4; however, version 23.0.1 is available.\n",
            "You should consider upgrading via the 'C:\\Program Files\\Python39\\python.exe -m pip install --upgrade pip' command.\n"
          ]
        }
      ],
      "source": [
        "!git clone https://github.com/meituan/YOLOv6\n",
        "%cd YOLOv6\n",
        "!pip install -r requirements.txt"
      ]
    },
    {
      "cell_type": "markdown",
      "source": [
        "## Connect Google Drive"
      ],
      "metadata": {
        "id": "A9lxkTu9-qFg"
      }
    },
    {
      "cell_type": "code",
      "source": [
        "from google.colab import drive\n",
        "drive.mount('/content/drive')"
      ],
      "metadata": {
        "colab": {
          "base_uri": "https://localhost:8080/"
        },
        "id": "q-bNXf_N-uPr",
        "outputId": "89f44468-d0ce-4a2b-e0d6-fb8d5d68d021"
      },
      "execution_count": 1,
      "outputs": [
        {
          "output_type": "stream",
          "name": "stdout",
          "text": [
            "Mounted at /content/drive\n"
          ]
        }
      ]
    },
    {
      "cell_type": "markdown",
      "source": [
        "### Copy Trained Weights and Test Set to Runtime"
      ],
      "metadata": {
        "id": "uHrogSMo-xK8"
      }
    },
    {
      "cell_type": "code",
      "source": [
        "!cp /content/drive/MyDrive/RESEARCH/CHECKPOINTS/yolov6/yolov6_mlbfr.pt /content/\n",
        "!cp -av /content/drive/MyDrive/RESEARCH/DATASET /content/"
      ],
      "metadata": {
        "colab": {
          "base_uri": "https://localhost:8080/"
        },
        "id": "eavPdCuV-6g6",
        "outputId": "5010746b-eeec-4ebf-f7b5-4f7a475cc660"
      },
      "execution_count": 2,
      "outputs": [
        {
          "output_type": "stream",
          "name": "stdout",
          "text": [
            "'/content/drive/MyDrive/RESEARCH/DATASET' -> '/content/DATASET'\n",
            "'/content/drive/MyDrive/RESEARCH/DATASET/IMG0004068.jpg' -> '/content/DATASET/IMG0004068.jpg'\n",
            "'/content/drive/MyDrive/RESEARCH/DATASET/IMG0004009.jpg' -> '/content/DATASET/IMG0004009.jpg'\n",
            "'/content/drive/MyDrive/RESEARCH/DATASET/IMG0004042.jpg' -> '/content/DATASET/IMG0004042.jpg'\n",
            "'/content/drive/MyDrive/RESEARCH/DATASET/IMG0004061.jpg' -> '/content/DATASET/IMG0004061.jpg'\n",
            "'/content/drive/MyDrive/RESEARCH/DATASET/IMG0004007.jpg' -> '/content/DATASET/IMG0004007.jpg'\n",
            "'/content/drive/MyDrive/RESEARCH/DATASET/IMG0004008.jpg' -> '/content/DATASET/IMG0004008.jpg'\n",
            "'/content/drive/MyDrive/RESEARCH/DATASET/IMG0004045.jpg' -> '/content/DATASET/IMG0004045.jpg'\n",
            "'/content/drive/MyDrive/RESEARCH/DATASET/IMG0004044.jpg' -> '/content/DATASET/IMG0004044.jpg'\n",
            "'/content/drive/MyDrive/RESEARCH/DATASET/IMG0004010.jpg' -> '/content/DATASET/IMG0004010.jpg'\n",
            "'/content/drive/MyDrive/RESEARCH/DATASET/IMG0003955.jpg' -> '/content/DATASET/IMG0003955.jpg'\n",
            "'/content/drive/MyDrive/RESEARCH/DATASET/IMG0004071.jpg' -> '/content/DATASET/IMG0004071.jpg'\n",
            "'/content/drive/MyDrive/RESEARCH/DATASET/IMG0004067.jpg' -> '/content/DATASET/IMG0004067.jpg'\n",
            "'/content/drive/MyDrive/RESEARCH/DATASET/IMG0004043.jpg' -> '/content/DATASET/IMG0004043.jpg'\n",
            "'/content/drive/MyDrive/RESEARCH/DATASET/IMG0004370.jpg' -> '/content/DATASET/IMG0004370.jpg'\n",
            "'/content/drive/MyDrive/RESEARCH/DATASET/IMG0004375.jpg' -> '/content/DATASET/IMG0004375.jpg'\n",
            "'/content/drive/MyDrive/RESEARCH/DATASET/IMG0004150.jpg' -> '/content/DATASET/IMG0004150.jpg'\n",
            "'/content/drive/MyDrive/RESEARCH/DATASET/IMG0004369.jpg' -> '/content/DATASET/IMG0004369.jpg'\n",
            "'/content/drive/MyDrive/RESEARCH/DATASET/IMG0004206.jpg' -> '/content/DATASET/IMG0004206.jpg'\n",
            "'/content/drive/MyDrive/RESEARCH/DATASET/IMG0004333.jpg' -> '/content/DATASET/IMG0004333.jpg'\n",
            "'/content/drive/MyDrive/RESEARCH/DATASET/IMG0004207.jpg' -> '/content/DATASET/IMG0004207.jpg'\n",
            "'/content/drive/MyDrive/RESEARCH/DATASET/IMG0004113.jpg' -> '/content/DATASET/IMG0004113.jpg'\n",
            "'/content/drive/MyDrive/RESEARCH/DATASET/IMG0004114.jpg' -> '/content/DATASET/IMG0004114.jpg'\n",
            "'/content/drive/MyDrive/RESEARCH/DATASET/IMG0004374.jpg' -> '/content/DATASET/IMG0004374.jpg'\n",
            "'/content/drive/MyDrive/RESEARCH/DATASET/IMG0004151.jpg' -> '/content/DATASET/IMG0004151.jpg'\n",
            "'/content/drive/MyDrive/RESEARCH/DATASET/IMG0004208.jpg' -> '/content/DATASET/IMG0004208.jpg'\n",
            "'/content/drive/MyDrive/RESEARCH/DATASET/IMG0004209.jpg' -> '/content/DATASET/IMG0004209.jpg'\n",
            "'/content/drive/MyDrive/RESEARCH/DATASET/IMG0004233.jpg' -> '/content/DATASET/IMG0004233.jpg'\n",
            "'/content/drive/MyDrive/RESEARCH/DATASET/IMG0004117.jpg' -> '/content/DATASET/IMG0004117.jpg'\n",
            "'/content/drive/MyDrive/RESEARCH/DATASET/IMG0004217.jpg' -> '/content/DATASET/IMG0004217.jpg'\n",
            "'/content/drive/MyDrive/RESEARCH/DATASET/IMG0004072.jpg' -> '/content/DATASET/IMG0004072.jpg'\n",
            "'/content/drive/MyDrive/RESEARCH/DATASET/IMG0004232.jpg' -> '/content/DATASET/IMG0004232.jpg'\n",
            "'/content/drive/MyDrive/RESEARCH/DATASET/IMG0004266.jpg' -> '/content/DATASET/IMG0004266.jpg'\n",
            "'/content/drive/MyDrive/RESEARCH/DATASET/IMG0004262.jpg' -> '/content/DATASET/IMG0004262.jpg'\n",
            "'/content/drive/MyDrive/RESEARCH/DATASET/IMG0004320.jpg' -> '/content/DATASET/IMG0004320.jpg'\n",
            "'/content/drive/MyDrive/RESEARCH/DATASET/IMG0004116.jpg' -> '/content/DATASET/IMG0004116.jpg'\n",
            "'/content/drive/MyDrive/RESEARCH/DATASET/IMG0004376.jpg' -> '/content/DATASET/IMG0004376.jpg'\n",
            "'/content/drive/MyDrive/RESEARCH/DATASET/IMG0004356.jpg' -> '/content/DATASET/IMG0004356.jpg'\n",
            "'/content/drive/MyDrive/RESEARCH/DATASET/IMG0004187.jpg' -> '/content/DATASET/IMG0004187.jpg'\n",
            "'/content/drive/MyDrive/RESEARCH/DATASET/IMG0004334.jpg' -> '/content/DATASET/IMG0004334.jpg'\n",
            "'/content/drive/MyDrive/RESEARCH/DATASET/IMG0004267.jpg' -> '/content/DATASET/IMG0004267.jpg'\n"
          ]
        }
      ]
    },
    {
      "cell_type": "markdown",
      "source": [
        "## Inference Run on the Test Set"
      ],
      "metadata": {
        "id": "M6XUsR0Z_RkJ"
      }
    },
    {
      "cell_type": "code",
      "source": [
        "!mkdir mlbfr_inference/"
      ],
      "metadata": {
        "id": "Yxn610X_AC-C"
      },
      "execution_count": 3,
      "outputs": []
    },
    {
      "cell_type": "code",
      "execution_count": null,
      "metadata": {
        "id": "OSbKGQ7h8C0t",
        "outputId": "7aae229f-e3a4-40eb-cfb0-98ec59bde944"
      },
      "outputs": [
        {
          "name": "stderr",
          "output_type": "stream",
          "text": [
            "Namespace(weights='runs/train/exp30/weights/best_ckpt.pt', source='data/unseen_test', yaml='data/coco.yaml', img_size=640, conf_thres=0.25, iou_thres=0.45, max_det=1000, device='0', save_txt=False, save_img=True, classes=None, agnostic_nms=False, project='runs/mlbfr', name='exp', hide_labels=False, hide_conf=False, half=False)\n",
            "Loading checkpoint from runs/train/exp30/weights/best_ckpt.pt\n",
            "\n",
            "Fusing model...\n",
            "C:\\Users\\joyas\\AppData\\Roaming\\Python\\Python39\\site-packages\\torch\\functional.py:504: UserWarning: torch.meshgrid: in an upcoming release, it will be required to pass the indexing argument. (Triggered internally at C:\\actions-runner\\_work\\pytorch\\pytorch\\builder\\windows\\pytorch\\aten\\src\\ATen\\native\\TensorShape.cpp:3191.)\n",
            "  return _VF.meshgrid(tensors, **kwargs)  # type: ignore[attr-defined]\n",
            "\n",
            "  0%|          | 0/40 [00:00<?, ?it/s]\n",
            "  8%|▊         | 3/40 [00:00<00:01, 24.98it/s]\n",
            " 15%|█▌        | 6/40 [00:00<00:01, 26.97it/s]\n",
            " 25%|██▌       | 10/40 [00:00<00:01, 28.20it/s]\n",
            " 32%|███▎      | 13/40 [00:00<00:00, 27.72it/s]\n",
            " 42%|████▎     | 17/40 [00:00<00:00, 28.76it/s]\n",
            " 50%|█████     | 20/40 [00:00<00:00, 28.40it/s]\n",
            " 60%|██████    | 24/40 [00:00<00:00, 29.26it/s]\n",
            " 68%|██████▊   | 27/40 [00:00<00:00, 29.26it/s]\n",
            " 78%|███████▊  | 31/40 [00:01<00:00, 29.58it/s]\n",
            " 88%|████████▊ | 35/40 [00:01<00:00, 30.49it/s]\n",
            " 98%|█████████▊| 39/40 [00:01<00:00, 29.90it/s]\n",
            "100%|██████████| 40/40 [00:01<00:00, 29.14it/s]\n",
            "Results saved to runs/mlbfr\\exp\n",
            "Premature end of JPEG file\n",
            "Premature end of JPEG file\n",
            "Premature end of JPEG file\n",
            "Premature end of JPEG file\n",
            "Premature end of JPEG file\n",
            "Premature end of JPEG file\n",
            "Premature end of JPEG file\n",
            "Premature end of JPEG file\n",
            "Premature end of JPEG file\n"
          ]
        }
      ],
      "source": [
        "!python tools/infer.py --weights /content/yolov6_mlbfr.pt --source data/unseen_test --project mlbfr_inference/"
      ]
    },
    {
      "cell_type": "code",
      "execution_count": null,
      "metadata": {
        "id": "SG8mzwuh8C0u",
        "outputId": "2f66dda6-dd70-4e2d-852c-3a1db3ef39c7"
      },
      "outputs": [
        {
          "data": {
            "image/jpeg": "[encoded data removed]",
            "text/plain": [
              "<IPython.core.display.Image object>"
            ]
          },
          "execution_count": 8,
          "metadata": {},
          "output_type": "execute_result"
        }
      ],
      "source": [
        "import glob,random\n",
        "from IPython.display import Image\n",
        "\n",
        "imageName=random.choice(glob.glob('/content/mlbfr_inference'))\n",
        "Image(filename=imageName) "
      ]
    }
  ],
  "metadata": {
    "kernelspec": {
      "display_name": "Python 3",
      "language": "python",
      "name": "python3"
    },
    "language_info": {
      "codemirror_mode": {
        "name": "ipython",
        "version": 3
      },
      "file_extension": ".py",
      "mimetype": "text/x-python",
      "name": "python",
      "nbconvert_exporter": "python",
      "pygments_lexer": "ipython3",
      "version": "3.9.13"
    },
    "orig_nbformat": 4,
    "vscode": {
      "interpreter": {
        "hash": "11938c6bc6919ae2720b4d5011047913343b08a43b18698fd82dedb0d4417594"
      }
    },
    "colab": {
      "provenance": []
    }
  },
  "nbformat": 4,
  "nbformat_minor": 0
}